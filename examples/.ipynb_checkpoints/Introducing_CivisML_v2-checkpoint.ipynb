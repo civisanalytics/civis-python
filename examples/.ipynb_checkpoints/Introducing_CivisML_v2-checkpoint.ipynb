{
 "cells": [
  {
   "cell_type": "markdown",
   "metadata": {},
   "source": [
    "# Introducing CivisML 2.0\n",
    "\n",
    "Note: We are continually releasing changes to CivisML, and this notebook is useful for any versions 2.0.0 and above.\n",
    "\n",
    "Data scientists are on the front lines of their organization’s most important customer growth and engagement questions, and they need to guide action as quickly as possible by getting models into production.  CivisML is a machine learning service that makes it possible for data scientists to massively increase the speed with which they can get great models into production.  And because it’s built on open-source packages, CivisML remains transparent and data scientists remain in control.\n",
    "\n",
    "In this notebook, we’ll go over the new features introduced in CivisML 2.0.  For a walkthrough of CivisML’s fundamentals, check out this introduction to the mechanics of CivisML: https://github.com/civisanalytics/civis-python/blob/master/examples/CivisML_parallel_training.ipynb\n",
    "\n",
    "CivisML 2.0 is full of new features to make modeling faster, more accurate, and more portable. This notebook will cover the following topics:\n",
    "- CivisML overview\n",
    "- Parallel training and validation\n",
    "- Use of the new ETL transformer, `DataFrameETL`, for easy, customizable ETL\n",
    "- Stacked models: combine models to get one bigger, better model\n",
    "- Model portability: get trained models out of CivisML\n",
    "- Multilayer perceptron models: neural networks built in to CivisML\n",
    "- Hyperband: a smarter alternative to grid search\n",
    "\n",
    "CivisML can be used to build models that answer all kinds of business questions, such as what movie to recommend to a customer, or which customers are most likely to upgrade their accounts. For the sake of example, this notebook uses a publicly available dataset on US colleges, and focuses on predicting the type of college (public non-profit, private non-profit, or private for-profit)."
   ]
  },
  {
   "cell_type": "code",
   "execution_count": 1,
   "metadata": {
    "collapsed": true
   },
   "outputs": [],
   "source": [
    "# first, let's import the packages we need\n",
    "import requests\n",
    "from io import StringIO\n",
    "import pandas as pd\n",
    "import numpy as np\n",
    "import matplotlib.pyplot as plt\n",
    "import seaborn as sns\n",
    "from sklearn import model_selection\n",
    "\n",
    "# import the Civis Python API client\n",
    "import civis\n",
    "# ModelPipeline is the class used to build CivisML models\n",
    "from civis.ml import ModelPipeline"
   ]
  },
  {
   "cell_type": "code",
   "execution_count": 2,
   "metadata": {
    "collapsed": true
   },
   "outputs": [],
   "source": [
    "# Suppress warnings for demo purposes. This is not recommended as a general practice.\n",
    "import warnings\n",
    "warnings.filterwarnings('ignore')"
   ]
  },
  {
   "cell_type": "markdown",
   "metadata": {},
   "source": [
    "## Downloading data\n",
    "Before we build any models, we need a dataset to play with. We're going to use the most recent College Scorecard data from the Department of Education.\n",
    "\n",
    "This dataset is collected to study the performance of US higher education institutions. You can learn more about it in [this technical paper](https://collegescorecard.ed.gov/assets/UsingFederalDataToMeasureAndImprovePerformance.pdf), and you can find details on the dataset features in [this data dictionary](https://collegescorecard.ed.gov/data/)."
   ]
  },
  {
   "cell_type": "code",
   "execution_count": 3,
   "metadata": {
    "collapsed": true
   },
   "outputs": [],
   "source": [
    "# Downloading data; this may take a minute\n",
    "# Two kind of nulls\n",
    "df = pd.read_csv(\"https://ed-public-download.app.cloud.gov/downloads/Most-Recent-Cohorts-All-Data-Elements.csv\", sep=\",\", na_values=['NULL', 'PrivacySuppressed'], low_memory=False)"
   ]
  },
  {
   "cell_type": "code",
   "execution_count": 4,
   "metadata": {},
   "outputs": [
    {
     "data": {
      "text/plain": [
       "(7593, 1805)"
      ]
     },
     "execution_count": 4,
     "metadata": {},
     "output_type": "execute_result"
    }
   ],
   "source": [
    "# How many rows and columns?\n",
    "df.shape"
   ]
  },
  {
   "cell_type": "code",
   "execution_count": 5,
   "metadata": {},
   "outputs": [
    {
     "data": {
      "text/plain": [
       "Index(['UNITID', 'OPEID', 'OPEID6', 'INSTNM', 'CITY', 'STABBR', 'ZIP',\n",
       "       'ACCREDAGENCY', 'INSTURL', 'NPCURL',\n",
       "       ...\n",
       "       'OMENRYP8_FTNFT', 'OMENRAP8_FTNFT', 'OMENRUP8_FTNFT', 'OMACHT6_PTNFT',\n",
       "       'OMAWDP6_PTNFT', 'OMACHT8_PTNFT', 'OMAWDP8_PTNFT', 'OMENRYP8_PTNFT',\n",
       "       'OMENRAP8_PTNFT', 'OMENRUP8_PTNFT'],\n",
       "      dtype='object', length=1805)"
      ]
     },
     "execution_count": 5,
     "metadata": {},
     "output_type": "execute_result"
    }
   ],
   "source": [
    "# What are some of the column names?\n",
    "df.columns"
   ]
  },
  {
   "cell_type": "markdown",
   "metadata": {},
   "source": [
    "## Data Munging\n",
    "Before running CivisML, we need to do some basic data munging, such as removing missing data from the dependent variable, and splitting the data into training and test sets.\n",
    "\n",
    "Throughout this notebook, we'll be trying to predict whether a college is public (labelled as 1), private non-profit (2), or private for-profit (3). The column name for this dependent variable is \"CONTROL\"."
   ]
  },
  {
   "cell_type": "code",
   "execution_count": 6,
   "metadata": {
    "collapsed": true
   },
   "outputs": [],
   "source": [
    "# Make sure to remove any rows with nulls in the dependent variable\n",
    "df = df[np.isfinite(df['CONTROL'])]"
   ]
  },
  {
   "cell_type": "code",
   "execution_count": 7,
   "metadata": {
    "collapsed": true
   },
   "outputs": [],
   "source": [
    "# split into training and test sets\n",
    "train_data, test_data = model_selection.train_test_split(df, test_size=0.2)"
   ]
  },
  {
   "cell_type": "code",
   "execution_count": 8,
   "metadata": {
    "scrolled": false
   },
   "outputs": [
    {
     "data": {
      "text/html": [
       "<div>\n",
       "<style>\n",
       "    .dataframe thead tr:only-child th {\n",
       "        text-align: right;\n",
       "    }\n",
       "\n",
       "    .dataframe thead th {\n",
       "        text-align: left;\n",
       "    }\n",
       "\n",
       "    .dataframe tbody tr th {\n",
       "        vertical-align: top;\n",
       "    }\n",
       "</style>\n",
       "<table border=\"1\" class=\"dataframe\">\n",
       "  <thead>\n",
       "    <tr style=\"text-align: right;\">\n",
       "      <th></th>\n",
       "      <th>UNITID</th>\n",
       "      <th>OPEID</th>\n",
       "      <th>OPEID6</th>\n",
       "      <th>INSTNM</th>\n",
       "      <th>CITY</th>\n",
       "      <th>STABBR</th>\n",
       "      <th>ZIP</th>\n",
       "      <th>ACCREDAGENCY</th>\n",
       "      <th>INSTURL</th>\n",
       "      <th>NPCURL</th>\n",
       "      <th>...</th>\n",
       "      <th>OMENRYP8_FTNFT</th>\n",
       "      <th>OMENRAP8_FTNFT</th>\n",
       "      <th>OMENRUP8_FTNFT</th>\n",
       "      <th>OMACHT6_PTNFT</th>\n",
       "      <th>OMAWDP6_PTNFT</th>\n",
       "      <th>OMACHT8_PTNFT</th>\n",
       "      <th>OMAWDP8_PTNFT</th>\n",
       "      <th>OMENRYP8_PTNFT</th>\n",
       "      <th>OMENRAP8_PTNFT</th>\n",
       "      <th>OMENRUP8_PTNFT</th>\n",
       "    </tr>\n",
       "  </thead>\n",
       "  <tbody>\n",
       "    <tr>\n",
       "      <th>1575</th>\n",
       "      <td>164599</td>\n",
       "      <td>2337400</td>\n",
       "      <td>23374</td>\n",
       "      <td>Bancroft School of Massage Therapy</td>\n",
       "      <td>Worcester</td>\n",
       "      <td>MA</td>\n",
       "      <td>01604</td>\n",
       "      <td>Accrediting Commission of Career Schools and C...</td>\n",
       "      <td>https://www.bancroftsmt.com</td>\n",
       "      <td>www.bancroftsmt.com/NetPriceCalculator/npcalc.htm</td>\n",
       "      <td>...</td>\n",
       "      <td>NaN</td>\n",
       "      <td>NaN</td>\n",
       "      <td>NaN</td>\n",
       "      <td>NaN</td>\n",
       "      <td>NaN</td>\n",
       "      <td>NaN</td>\n",
       "      <td>NaN</td>\n",
       "      <td>NaN</td>\n",
       "      <td>NaN</td>\n",
       "      <td>NaN</td>\n",
       "    </tr>\n",
       "    <tr>\n",
       "      <th>672</th>\n",
       "      <td>131803</td>\n",
       "      <td>145900</td>\n",
       "      <td>1459</td>\n",
       "      <td>Strayer University-District of Columbia</td>\n",
       "      <td>Washington</td>\n",
       "      <td>DC</td>\n",
       "      <td>20005</td>\n",
       "      <td>Middle States Commission on Higher Education</td>\n",
       "      <td>www.strayer.edu/district-columbia/washington</td>\n",
       "      <td>https://strayer.aidcalc.com/netprice.htm</td>\n",
       "      <td>...</td>\n",
       "      <td>0.0000</td>\n",
       "      <td>0.1667</td>\n",
       "      <td>0.2778</td>\n",
       "      <td>199.0</td>\n",
       "      <td>0.2513</td>\n",
       "      <td>199.0</td>\n",
       "      <td>0.2915</td>\n",
       "      <td>0.0302</td>\n",
       "      <td>0.2915</td>\n",
       "      <td>0.3869</td>\n",
       "    </tr>\n",
       "    <tr>\n",
       "      <th>7388</th>\n",
       "      <td>21130702</td>\n",
       "      <td>323901</td>\n",
       "      <td>3239</td>\n",
       "      <td>Bucks County Community College-Lower Bucks Campus</td>\n",
       "      <td>Bristol</td>\n",
       "      <td>PA</td>\n",
       "      <td>190070277</td>\n",
       "      <td>Middle States Commission on Higher Education</td>\n",
       "      <td>www.bucks.edu</td>\n",
       "      <td>NaN</td>\n",
       "      <td>...</td>\n",
       "      <td>NaN</td>\n",
       "      <td>NaN</td>\n",
       "      <td>NaN</td>\n",
       "      <td>NaN</td>\n",
       "      <td>NaN</td>\n",
       "      <td>NaN</td>\n",
       "      <td>NaN</td>\n",
       "      <td>NaN</td>\n",
       "      <td>NaN</td>\n",
       "      <td>NaN</td>\n",
       "    </tr>\n",
       "    <tr>\n",
       "      <th>6926</th>\n",
       "      <td>483902</td>\n",
       "      <td>4225200</td>\n",
       "      <td>42252</td>\n",
       "      <td>Yechanlaz Instituto Vocacional</td>\n",
       "      <td>Miami</td>\n",
       "      <td>FL</td>\n",
       "      <td>33144-4817</td>\n",
       "      <td>NaN</td>\n",
       "      <td>www.yechanlaz-instituto.com</td>\n",
       "      <td>www.yechanlaz-instituto.com</td>\n",
       "      <td>...</td>\n",
       "      <td>NaN</td>\n",
       "      <td>NaN</td>\n",
       "      <td>NaN</td>\n",
       "      <td>NaN</td>\n",
       "      <td>NaN</td>\n",
       "      <td>NaN</td>\n",
       "      <td>NaN</td>\n",
       "      <td>NaN</td>\n",
       "      <td>NaN</td>\n",
       "      <td>NaN</td>\n",
       "    </tr>\n",
       "    <tr>\n",
       "      <th>3571</th>\n",
       "      <td>224110</td>\n",
       "      <td>355800</td>\n",
       "      <td>3558</td>\n",
       "      <td>North Central Texas College</td>\n",
       "      <td>Gainesville</td>\n",
       "      <td>TX</td>\n",
       "      <td>76240-4699</td>\n",
       "      <td>Southern Association of Colleges and Schools C...</td>\n",
       "      <td>www.nctc.edu</td>\n",
       "      <td>www.collegeforalltexans.com/apps/CollegeMoney/</td>\n",
       "      <td>...</td>\n",
       "      <td>0.0125</td>\n",
       "      <td>0.5625</td>\n",
       "      <td>0.2750</td>\n",
       "      <td>487.0</td>\n",
       "      <td>0.1109</td>\n",
       "      <td>487.0</td>\n",
       "      <td>0.1150</td>\n",
       "      <td>0.0041</td>\n",
       "      <td>0.5236</td>\n",
       "      <td>0.3573</td>\n",
       "    </tr>\n",
       "  </tbody>\n",
       "</table>\n",
       "<p>5 rows × 1805 columns</p>\n",
       "</div>"
      ],
      "text/plain": [
       "        UNITID    OPEID  OPEID6  \\\n",
       "1575    164599  2337400   23374   \n",
       "672     131803   145900    1459   \n",
       "7388  21130702   323901    3239   \n",
       "6926    483902  4225200   42252   \n",
       "3571    224110   355800    3558   \n",
       "\n",
       "                                                 INSTNM         CITY STABBR  \\\n",
       "1575                 Bancroft School of Massage Therapy    Worcester     MA   \n",
       "672             Strayer University-District of Columbia   Washington     DC   \n",
       "7388  Bucks County Community College-Lower Bucks Campus      Bristol     PA   \n",
       "6926                     Yechanlaz Instituto Vocacional        Miami     FL   \n",
       "3571                        North Central Texas College  Gainesville     TX   \n",
       "\n",
       "             ZIP                                       ACCREDAGENCY  \\\n",
       "1575       01604  Accrediting Commission of Career Schools and C...   \n",
       "672        20005       Middle States Commission on Higher Education   \n",
       "7388   190070277       Middle States Commission on Higher Education   \n",
       "6926  33144-4817                                                NaN   \n",
       "3571  76240-4699  Southern Association of Colleges and Schools C...   \n",
       "\n",
       "                                           INSTURL  \\\n",
       "1575                   https://www.bancroftsmt.com   \n",
       "672   www.strayer.edu/district-columbia/washington   \n",
       "7388                                 www.bucks.edu   \n",
       "6926                   www.yechanlaz-instituto.com   \n",
       "3571                                  www.nctc.edu   \n",
       "\n",
       "                                                 NPCURL       ...        \\\n",
       "1575  www.bancroftsmt.com/NetPriceCalculator/npcalc.htm       ...         \n",
       "672            https://strayer.aidcalc.com/netprice.htm       ...         \n",
       "7388                                                NaN       ...         \n",
       "6926                        www.yechanlaz-instituto.com       ...         \n",
       "3571     www.collegeforalltexans.com/apps/CollegeMoney/       ...         \n",
       "\n",
       "      OMENRYP8_FTNFT  OMENRAP8_FTNFT  OMENRUP8_FTNFT  OMACHT6_PTNFT  \\\n",
       "1575             NaN             NaN             NaN            NaN   \n",
       "672           0.0000          0.1667          0.2778          199.0   \n",
       "7388             NaN             NaN             NaN            NaN   \n",
       "6926             NaN             NaN             NaN            NaN   \n",
       "3571          0.0125          0.5625          0.2750          487.0   \n",
       "\n",
       "      OMAWDP6_PTNFT  OMACHT8_PTNFT  OMAWDP8_PTNFT  OMENRYP8_PTNFT  \\\n",
       "1575            NaN            NaN            NaN             NaN   \n",
       "672          0.2513          199.0         0.2915          0.0302   \n",
       "7388            NaN            NaN            NaN             NaN   \n",
       "6926            NaN            NaN            NaN             NaN   \n",
       "3571         0.1109          487.0         0.1150          0.0041   \n",
       "\n",
       "      OMENRAP8_PTNFT  OMENRUP8_PTNFT  \n",
       "1575             NaN             NaN  \n",
       "672           0.2915          0.3869  \n",
       "7388             NaN             NaN  \n",
       "6926             NaN             NaN  \n",
       "3571          0.5236          0.3573  \n",
       "\n",
       "[5 rows x 1805 columns]"
      ]
     },
     "execution_count": 8,
     "metadata": {},
     "output_type": "execute_result"
    }
   ],
   "source": [
    "# print a few sample columns\n",
    "train_data.head()"
   ]
  },
  {
   "cell_type": "markdown",
   "metadata": {},
   "source": [
    "Some of these columns are duplicates, or contain information we don't want to use in our model (like college names and URLs). CivisML can take a list of columns to exclude and do this part of the data munging for us, so let's make that list here."
   ]
  },
  {
   "cell_type": "code",
   "execution_count": 8,
   "metadata": {
    "collapsed": true
   },
   "outputs": [],
   "source": [
    "to_exclude = ['ADM_RATE_ALL', 'OPEID', 'OPEID6', 'ZIP', 'INSTNM', \n",
    "              'INSTURL', 'NPCURL', 'ACCREDAGENCY', 'T4APPROVALDATE', \n",
    "              'STABBR', 'ALIAS', 'REPAY_DT_MDN', 'SEPAR_DT_MDN']"
   ]
  },
  {
   "cell_type": "markdown",
   "metadata": {},
   "source": [
    "## Basic CivisML Usage\n",
    "When building a supervised model, there are a few basic things you'll probably want to do:\n",
    "\n",
    "1. Transform the data into a modelling-friendly format\n",
    "2. Train the model on some labelled data\n",
    "3. Validate the model\n",
    "4. Use the model to make predictions about unlabelled data\n",
    "\n",
    "CivisML does all of this in three lines of code. Let's fit a basic sparse logistic model to see how."
   ]
  },
  {
   "cell_type": "markdown",
   "metadata": {},
   "source": [
    "The first thing we need to do is build a `ModelPipeline` object. This stores all of the basic configuration options for the model. We'll tell it things like the type of model, dependent variable, and columns we want to exclude. CivisML handles basic ETL for you, including categorical expansion of any string-type columns."
   ]
  },
  {
   "cell_type": "code",
   "execution_count": 9,
   "metadata": {
    "collapsed": true
   },
   "outputs": [],
   "source": [
    "# Use a push-button workflow to fit a model with reasonable default parameters\n",
    "sl_model = ModelPipeline(model='sparse_logistic',\n",
    "                         model_name='Example sparse logistic',\n",
    "                         primary_key='UNITID',\n",
    "                         dependent_variable=['CONTROL'],\n",
    "                         excluded_columns=to_exclude)"
   ]
  },
  {
   "cell_type": "markdown",
   "metadata": {},
   "source": [
    "Next, we want to train and validate the model by calling `.train` on the `ModelPipeline` object. CivisML uses 4-fold cross-validation on the training set. You can train on local data or query data from Redshift. In this case, we have our data locally, so we just pass the data frame."
   ]
  },
  {
   "cell_type": "code",
   "execution_count": 10,
   "metadata": {
    "collapsed": true
   },
   "outputs": [],
   "source": [
    "sl_train = sl_model.train(train_data)"
   ]
  },
  {
   "cell_type": "markdown",
   "metadata": {},
   "source": [
    "This returns a `ModelFuture` object, which is *non-blocking*-- this means that you can keep doing things in your notebook while the model runs on Civis Platform in the background. If you want to make a blocking call (one that doesn't complete until your model is finished), you can use `.result()`."
   ]
  },
  {
   "cell_type": "code",
   "execution_count": 11,
   "metadata": {},
   "outputs": [
    {
     "data": {
      "text/plain": [
       "<ModelFuture at 0x7f293cf39eb8 state=running>"
      ]
     },
     "execution_count": 11,
     "metadata": {},
     "output_type": "execute_result"
    }
   ],
   "source": [
    "# non-blocking\n",
    "sl_train"
   ]
  },
  {
   "cell_type": "code",
   "execution_count": 12,
   "metadata": {},
   "outputs": [
    {
     "data": {
      "text/plain": [
       "{'container_id': 9137792,\n",
       " 'error': None,\n",
       " 'finished_at': '2018-01-17T21:25:08.000Z',\n",
       " 'id': 69726571,\n",
       " 'is_cancel_requested': False,\n",
       " 'started_at': '2018-01-17T21:18:48.000Z',\n",
       " 'state': 'succeeded'}"
      ]
     },
     "execution_count": 12,
     "metadata": {},
     "output_type": "execute_result"
    }
   ],
   "source": [
    "# blocking\n",
    "sl_train.result()"
   ]
  },
  {
   "cell_type": "markdown",
   "metadata": {},
   "source": [
    "### Parallel Model Tuning and Validation\n",
    "We didn't actually specify the number of jobs in the `.train()` call above, but behind the scenes, the model was actually training in parallel! In CivisML 2.0, model tuning and validation will automatically be distributed across your computing cluster, without ever using more than 90% of the cluster resources. This means that you can build models faster and try more model configurations, leaving you more time to think critically about your data. If you decide you want more control over the resources you're using, you can set the `n_jobs` parameter to a specific number of jobs, and CivisML won't run more than that at once."
   ]
  },
  {
   "cell_type": "markdown",
   "metadata": {},
   "source": [
    "We can see how well the model did by looking at the validation metrics."
   ]
  },
  {
   "cell_type": "code",
   "execution_count": 13,
   "metadata": {},
   "outputs": [
    {
     "name": "stdout",
     "output_type": "stream",
     "text": [
      "accuracy\n",
      "confusion_matrix\n",
      "p_correct\n",
      "pop_incidence_true\n",
      "pop_incidence_pred\n",
      "roc_auc\n",
      "log_loss\n",
      "brier_score\n",
      "deciles\n",
      "roc_curve_by_class\n",
      "calibration_curve_by_class\n",
      "roc_auc_macroavg\n",
      "score_histogram\n",
      "training_histogram\n",
      "oos_score_table\n"
     ]
    }
   ],
   "source": [
    "# loop through the metric names and print to screen\n",
    "metrics = [print(key) for key in sl_train.metrics.keys()]"
   ]
  },
  {
   "cell_type": "code",
   "execution_count": 14,
   "metadata": {},
   "outputs": [
    {
     "data": {
      "text/plain": [
       "[0.9963479457451291, 0.9413246335261132, 0.9602249988203488]"
      ]
     },
     "execution_count": 14,
     "metadata": {},
     "output_type": "execute_result"
    }
   ],
   "source": [
    "# ROC AUC for each of the three categories in our dependent variable\n",
    "sl_train.metrics['roc_auc']"
   ]
  },
  {
   "cell_type": "markdown",
   "metadata": {},
   "source": [
    "Impressive!\n",
    "\n",
    "This is the basic CivisML workflow: create the model, train, and make predictions. There are other configuration options for more complex use cases; for example, you can create a custom estimator, pass custom dependencies, manage the computing resources for larger models, and more. For more information, see the Machine Learning section of the [Python API client docs](https://civis-python.readthedocs.io).\n",
    "\n",
    "Now that we can build a simple model, let's see what's new to CivisML 2.0!"
   ]
  },
  {
   "cell_type": "markdown",
   "metadata": {},
   "source": [
    "## Custom ETL\n",
    "CivisML can do several data transformations to prepare your data for modeling. This makes data preprocessing easier, and makes it part of your model pipeline rather than an additional script you have to run. CivisML's built-in ETL includes:\n",
    "- Categorical expansion: expand a single column of strings or categories into separate binary variables.\n",
    "- Dropping columns: remove columns not needed in a model, such as an ID number.\n",
    "- Removing null columns: remove columns that contain no data.\n",
    "\n",
    "With CivisML 2.0, you can now recreate and customize this ETL using `DataFrameETL`, our open source ETL transformer, [available on GitHub](https://github.com/civisanalytics/civisml-extensions).\n",
    "\n",
    "By default, CivisML will use DataFrameETL to automatically detect non-numeric columns for categorical expansion. Our example college dataset has a lot of integer columns which are actually categorical, but we can make sure they're handled correctly by passing CivisML a custom ETL transformer."
   ]
  },
  {
   "cell_type": "code",
   "execution_count": 15,
   "metadata": {
    "collapsed": true
   },
   "outputs": [],
   "source": [
    "# The ETL transformer used in CivisML can be found in the civismlext module\n",
    "from civismlext.preprocessing import DataFrameETL"
   ]
  },
  {
   "cell_type": "markdown",
   "metadata": {},
   "source": [
    "This creates a list of columns to categorically expand, identified using the data dictionary available [here](https://collegescorecard.ed.gov/data/)."
   ]
  },
  {
   "cell_type": "code",
   "execution_count": 16,
   "metadata": {
    "collapsed": true
   },
   "outputs": [],
   "source": [
    "# column indices for columns to expand\n",
    "to_expand = list(df.columns[:21]) + list(df.columns[23:36]) + list(df.columns[99:290]) + \\\n",
    "    list(df.columns[[1738, 1773, 1776]])"
   ]
  },
  {
   "cell_type": "code",
   "execution_count": 17,
   "metadata": {
    "collapsed": true
   },
   "outputs": [],
   "source": [
    "# create ETL estimator to pass to CivisML\n",
    "etl = DataFrameETL(cols_to_drop=to_exclude, \n",
    "                   cols_to_expand=to_expand, # we made this column list during data munging\n",
    "                   check_null_cols='warn')"
   ]
  },
  {
   "cell_type": "markdown",
   "metadata": {},
   "source": [
    "## Model Stacking\n",
    "Now it's time to fit a model. Let's take a look at model stacking, which is new to CivisML 2.0.\n",
    "\n",
    "Stacking lets you combine several algorithms into a single model which performs as well or better than the component algorithms. We use stacking at Civis to build more accurate models, which saves our data scientists time comparing algorithm performance. In CivisML, we have two stacking workflows: `stacking_classifier` (sparse logistic, GBT, and random forest, with a logistic regression model as a \"meta-estimator\" to combine predictions from the other models); and `stacking_regressor` (sparse linear, GBT, and random forest, with a non-negative linear regression as the meta-estimator). Use them the same way you use `sparse_logistic` or other pre-defined models. If you want to learn more about how stacking works under the hood, take a look at [this talk](https://www.youtube.com/watch?v=3gpf1lGwecA&t=1058s) by the person at Civis who wrote it!\n",
    "\n",
    "Let's fit both a stacking classifier and some un-stacked models, so we can compare the performance."
   ]
  },
  {
   "cell_type": "code",
   "execution_count": 19,
   "metadata": {
    "collapsed": true
   },
   "outputs": [],
   "source": [
    "workflows = ['stacking_classifier',\n",
    "            'sparse_logistic',\n",
    "            'random_forest_classifier',\n",
    "            'gradient_boosting_classifier']\n",
    "models = []\n",
    "# create a model object for each of the four model types\n",
    "for wf in workflows:\n",
    "    model = ModelPipeline(model=wf,\n",
    "                          model_name=wf + ' v2 example',\n",
    "                          primary_key='UNITID',\n",
    "                          dependent_variable=['CONTROL'],\n",
    "                          etl=etl  # use the custom ETL we created\n",
    "                          )\n",
    "    models.append(model)"
   ]
  },
  {
   "cell_type": "code",
   "execution_count": 20,
   "metadata": {
    "collapsed": true
   },
   "outputs": [],
   "source": [
    "# iterate over the model objects and run a CivisML training job for each\n",
    "trains = []\n",
    "for model in models:\n",
    "    train = model.train(train_data)\n",
    "    trains.append(train)"
   ]
  },
  {
   "cell_type": "markdown",
   "metadata": {},
   "source": [
    "Let's plot diagnostics for each of the models. In the Civis Platform, these plots will automatically be built and displayed in the \"Models\" tab. But for the sake of example, let's also explicitly plot ROC curves and AUCs in the notebook.\n",
    "\n",
    "There are three classes (public, non-profit private, and for-profit private), so we'll have three curves per model. It looks like all of the models are doing well, with sparse logistic performing slightly worse than the other three."
   ]
  },
  {
   "cell_type": "code",
   "execution_count": 21,
   "metadata": {},
   "outputs": [
    {
     "data": {
      "image/png": "[encoded data removed]",
      "text/plain": [
       "<matplotlib.figure.Figure at 0x7f293c9b8e80>"
      ]
     },
     "metadata": {},
     "output_type": "display_data"
    }
   ],
   "source": [
    "%matplotlib inline\n",
    "# Let's look at how the model performed during validation\n",
    "def extract_roc(fut_job, model_name):\n",
    "    '''Build a data frame of ROC curve data from the completed training job `fut_job`\n",
    "    with model name `model_name`. Note that this function will only work for a classification\n",
    "    model where the dependent variable has more than two classes.'''\n",
    "    aucs = fut_job.metrics['roc_auc']\n",
    "    roc_curve = fut_job.metrics['roc_curve_by_class']\n",
    "    n_classes = len(roc_curve)\n",
    "    fpr = []\n",
    "    tpr = []\n",
    "    class_num = []\n",
    "    auc = []\n",
    "    for i, curve in enumerate(roc_curve):\n",
    "        fpr.extend(curve['fpr'])\n",
    "        tpr.extend(curve['tpr'])\n",
    "        class_num.extend([i] * len(curve['fpr']))\n",
    "        auc.extend([aucs[i]] * len(curve['fpr']))\n",
    "    model_vec = [model_name] * len(fpr)\n",
    "    df = pd.DataFrame({\n",
    "        'model': model_vec,\n",
    "        'class': class_num,\n",
    "        'fpr': fpr,\n",
    "        'tpr': tpr,\n",
    "        'auc': auc\n",
    "    })\n",
    "    return df\n",
    "\n",
    "# extract ROC curve information for all of the trained models\n",
    "workflows_abbrev = ['stacking', 'logistic', 'RF', 'GBT']\n",
    "roc_dfs = [extract_roc(train, w) for train, w in zip(trains, workflows_abbrev)]\n",
    "roc_df = pd.concat(roc_dfs)\n",
    "\n",
    "# create faceted ROC curve plots. Each row of plots is a different model type, and each\n",
    "# column of plots is a different class of the dependent variable.\n",
    "g = sns.FacetGrid(roc_df, col=\"class\",  row=\"model\")\n",
    "g = g.map(plt.plot, \"fpr\", \"tpr\", color='blue')"
   ]
  },
  {
   "cell_type": "markdown",
   "metadata": {},
   "source": [
    "All of the models perform quite well, so it's difficult to compare based on the ROC curves. Let's plot the AUCs themselves."
   ]
  },
  {
   "cell_type": "code",
   "execution_count": 22,
   "metadata": {},
   "outputs": [
    {
     "data": {
      "image/png": "[encoded data removed]",
      "text/plain": [
       "<matplotlib.figure.Figure at 0x7f2935653f98>"
      ]
     },
     "metadata": {},
     "output_type": "display_data"
    }
   ],
   "source": [
    "# Plot AUCs for each model\n",
    "%matplotlib inline\n",
    "auc_df = roc_df[['model', 'class', 'auc']]\n",
    "auc_df.drop_duplicates(inplace=True)\n",
    "plt.show(sns.swarmplot(x=auc_df['model'], y=auc_df['auc']))"
   ]
  },
  {
   "cell_type": "markdown",
   "metadata": {},
   "source": [
    "Here we can see that all models but sparse logistic perform quite well, but stacking appears to perform marginally better than the others. For more challenging modeling tasks, the difference between stacking and other models will often be more pronounced."
   ]
  },
  {
   "cell_type": "markdown",
   "metadata": {
    "collapsed": true
   },
   "source": [
    "Now our models are trained, and we know that they all perform very well. Because the AUCs are all so high, we would expect the models to make similar predictions. Let's see if that's true."
   ]
  },
  {
   "cell_type": "code",
   "execution_count": 23,
   "metadata": {
    "collapsed": true
   },
   "outputs": [],
   "source": [
    "# kick off a prediction job for each of the four models\n",
    "preds = [model.predict(test_data) for model in models]"
   ]
  },
  {
   "cell_type": "code",
   "execution_count": 24,
   "metadata": {},
   "outputs": [
    {
     "data": {
      "text/plain": [
       "[{'container_id': 9138218,\n",
       "  'error': None,\n",
       "  'finished_at': '2018-01-17T21:44:07.000Z',\n",
       "  'id': 69728304,\n",
       "  'is_cancel_requested': False,\n",
       "  'started_at': '2018-01-17T21:43:26.000Z',\n",
       "  'state': 'succeeded'},\n",
       " {'container_id': 9138220,\n",
       "  'error': None,\n",
       "  'finished_at': '2018-01-17T21:44:10.000Z',\n",
       "  'id': 69728306,\n",
       "  'is_cancel_requested': False,\n",
       "  'started_at': '2018-01-17T21:43:32.000Z',\n",
       "  'state': 'succeeded'},\n",
       " {'container_id': 9138222,\n",
       "  'error': None,\n",
       "  'finished_at': '2018-01-17T21:44:08.000Z',\n",
       "  'id': 69728308,\n",
       "  'is_cancel_requested': False,\n",
       "  'started_at': '2018-01-17T21:43:36.000Z',\n",
       "  'state': 'succeeded'},\n",
       " {'container_id': 9138229,\n",
       "  'error': None,\n",
       "  'finished_at': '2018-01-17T21:44:11.000Z',\n",
       "  'id': 69728315,\n",
       "  'is_cancel_requested': False,\n",
       "  'started_at': '2018-01-17T21:43:41.000Z',\n",
       "  'state': 'succeeded'}]"
      ]
     },
     "execution_count": 24,
     "metadata": {},
     "output_type": "execute_result"
    }
   ],
   "source": [
    "# This will run on Civis Platform cloud resources\n",
    "[pred.result() for pred in preds]"
   ]
  },
  {
   "cell_type": "code",
   "execution_count": 25,
   "metadata": {},
   "outputs": [
    {
     "name": "stdout",
     "output_type": "stream",
     "text": [
      "[          control_1  control_2  control_3\n",
      "UNITID                                   \n",
      "217882     0.993129   0.006856   0.000015\n",
      "195234     0.001592   0.990423   0.007985\n",
      "446385     0.002784   0.245300   0.751916\n",
      "13508115   0.003109   0.906107   0.090785\n",
      "459499     0.005351   0.039922   0.954726,\n",
      "              control_1  control_2  control_3\n",
      "UNITID                                      \n",
      "217882    9.954234e-01   0.000200   0.004377\n",
      "195234    6.766601e-08   0.999615   0.000385\n",
      "446385    4.571749e-03   0.056303   0.939125\n",
      "13508115  1.768058e-02   0.699806   0.282514\n",
      "459499    1.319468e-02   0.285295   0.701510,\n",
      "           control_1  control_2  control_3\n",
      "UNITID                                   \n",
      "217882        0.960      0.034      0.006\n",
      "195234        0.012      0.974      0.014\n",
      "446385        0.020      0.508      0.472\n",
      "13508115      0.006      0.914      0.080\n",
      "459499        0.032      0.060      0.908,\n",
      "           control_1  control_2  control_3\n",
      "UNITID                                   \n",
      "217882     0.993809   0.005610   0.000581\n",
      "195234     0.004323   0.991094   0.004583\n",
      "446385     0.001309   0.066452   0.932238\n",
      "13508115   0.012525   0.809062   0.178413\n",
      "459499     0.002034   0.061846   0.936120]\n"
     ]
    }
   ],
   "source": [
    "# print the top few rows for each of the models\n",
    "pred_df = [pred.table.head() for pred in preds]\n",
    "import pprint\n",
    "pprint.pprint(pred_df)"
   ]
  },
  {
   "cell_type": "markdown",
   "metadata": {},
   "source": [
    "Looks like the probabilities here aren't exactly the same, but are directionally identical-- so, if you chose the class that had the highest probability for each row, you'd end up with the same predictions for all models. This makes sense, because all of the models performed well."
   ]
  },
  {
   "cell_type": "markdown",
   "metadata": {},
   "source": [
    "## Model Portability\n",
    "What if you want to score a model outside of Civis Platform? Maybe you want to deploy this model in an app for education policy makers. In CivisML 2.0, you can easily get the trained model pipeline out of the `ModelFuture` object."
   ]
  },
  {
   "cell_type": "code",
   "execution_count": 26,
   "metadata": {
    "collapsed": true
   },
   "outputs": [],
   "source": [
    "train_stack = trains[0] # Get the ModelFuture for the stacking model\n",
    "trained_model = train_stack.estimator"
   ]
  },
  {
   "cell_type": "markdown",
   "metadata": {},
   "source": [
    "This `Pipeline` contains all of the steps CivisML used to train the model, from ETL to the model itself. We can print each step individually to get a better sense of what is going on."
   ]
  },
  {
   "cell_type": "code",
   "execution_count": 27,
   "metadata": {},
   "outputs": [
    {
     "name": "stdout",
     "output_type": "stream",
     "text": [
      "DataFrameETL(check_null_cols='warn',\n",
      "       cols_to_drop=['ADM_RATE_ALL', 'OPEID', 'OPEID6', 'ZIP', 'INSTNM', 'INSTURL', 'NPCURL', 'ACCREDAGENCY', 'T4APPROVALDATE', 'STABBR', 'ALIAS', 'REPAY_DT_MDN', 'SEPAR_DT_MDN'],\n",
      "       cols_to_expand=['UNITID', 'OPEID', 'OPEID6', 'INSTNM', 'CITY', 'STABBR', 'ZIP', 'ACCREDAGENCY', 'INSTURL', 'NPCURL', 'SCH_DEG', 'HCM2', 'MAIN', 'NUMBRANCH', 'PREDDEG', 'HIGHDEG', 'CONTROL', 'ST_FIPS', 'REGION', 'LOCALE', 'LOCALE2', 'CCBASIC', 'CCUGPROF', 'CCSIZSET', 'HBCU', 'PBI', 'ANNHI', 'TRIBAL',...RT2', 'CIP54ASSOC', 'CIP54CERT4', 'CIP54BACHL', 'DISTANCEONLY', 'ICLEVEL', 'OPENADMP', 'ACCREDCODE'],\n",
      "       dataframe_output=False, dummy_na=True, fill_value=0.0)\n",
      "\n",
      "\n",
      "Imputer(axis=0, copy=True, missing_values='NaN', strategy='mean', verbose=0)\n",
      "\n",
      "\n",
      "StackedClassifier(cv=StratifiedKFold(n_splits=4, random_state=42420, shuffle=True),\n",
      "         estimator_list=[('sparse_logistic', Pipeline(memory=None,\n",
      "     steps=[('selectfrommodel', SelectFromModel(estimator=LogitNet(alpha=1, cut_point=0.5, fit_intercept=True, lambda_path=None,\n",
      "     max_iter=10000, min_lambda_ratio=0.0001, n_jobs=1, n_lambda=100,\n",
      "     n_splits=4, random_state=42, scoring='...    random_state=42, refit=True, scoring=None, solver='lbfgs',\n",
      "           tol=1e-08, verbose=0))]))],\n",
      "         n_jobs=1, pre_dispatch='2*n_jobs', verbose=0)\n",
      "\n",
      "\n"
     ]
    }
   ],
   "source": [
    "# print each of the estimators in the pipeline, separated by newlines for readability\n",
    "for step in train_stack.estimator.steps:\n",
    "    print(step[1])\n",
    "    print('\\n')"
   ]
  },
  {
   "cell_type": "markdown",
   "metadata": {},
   "source": [
    "Now we can see that there are three steps: the `DataFrameETL` object we passed in, a null imputation step, and the stacking estimator itself.\n",
    "\n",
    "We can use this outside of CivisML simply by calling `.predict` on the estimator. This will make predictions using the model in the notebook without using CivisML."
   ]
  },
  {
   "cell_type": "code",
   "execution_count": 28,
   "metadata": {
    "collapsed": true
   },
   "outputs": [],
   "source": [
    "# drop the dependent variable so we don't use it to predict itself!\n",
    "predictions = trained_model.predict(test_data.drop(labels=['CONTROL'], axis=1))"
   ]
  },
  {
   "cell_type": "code",
   "execution_count": 29,
   "metadata": {},
   "outputs": [
    {
     "data": {
      "text/plain": [
       "array([1, 2, 3, ..., 3, 2, 2])"
      ]
     },
     "execution_count": 29,
     "metadata": {},
     "output_type": "execute_result"
    }
   ],
   "source": [
    "# print out the class predictions. These will be integers representing the predicted\n",
    "# class rather than probabilities.\n",
    "predictions"
   ]
  },
  {
   "cell_type": "markdown",
   "metadata": {},
   "source": [
    "## Hyperparameter optimization with Hyperband and Neural Networks\n",
    "Multilayer Perceptrons (MLPs) are simple neural networks, which are now built in to CivisML. The MLP estimators in CivisML come from [muffnn](https://github.com/civisanalytics/muffnn), another open source package written and maintained by Civis Analytics using [tensorflow](https://www.tensorflow.org/). Let's fit one using hyperband.\n",
    "\n",
    "Tuning hyperparameters is a critical chore for getting an algorithm to perform at its best, but it can take a long time to run. Using CivisML 2.0, we can use hyperband as an alternative to conventional grid search for hyperparameter optimization-- it runs about twice as fast. While grid search runs every parameter combination for the full time, hyperband runs many combinations for a short time, then filters out the best, runs them for longer, filters again, and so on. This means that you can try more combinations in less time, so we recommend using it whenever possible. The hyperband estimator is open source and [available on GitHub](https://github.com/civisanalytics/civisml-extensions). You can learn about the details in [the original paper, Li et al. (2016)](https://arxiv.org/abs/1603.06560).\n",
    "\n",
    "Right now, hyperband is implemented in CivisML named preset models for the following algorithms: \n",
    "- Multilayer Perceptrons (MLPs)\n",
    "- Stacking\n",
    "- Random forests\n",
    "- GBTs\n",
    "- ExtraTrees\n",
    "\n",
    "Unlike grid search, you don't need to specify values to search over. If you pass `cross_validation_parameters='hyperband'` to `ModelPipeline`, hyperparameter combinations will be randomly drawn from preset distributions."
   ]
  },
  {
   "cell_type": "code",
   "execution_count": 30,
   "metadata": {},
   "outputs": [
    {
     "data": {
      "text/plain": [
       "{'container_id': 9138258,\n",
       " 'error': None,\n",
       " 'finished_at': '2018-01-17T22:11:21.000Z',\n",
       " 'id': 69728426,\n",
       " 'is_cancel_requested': False,\n",
       " 'started_at': '2018-01-17T21:44:33.000Z',\n",
       " 'state': 'succeeded'}"
      ]
     },
     "execution_count": 30,
     "metadata": {},
     "output_type": "execute_result"
    }
   ],
   "source": [
    "# build a model specifying the MLP model with hyperband\n",
    "model_mlp = ModelPipeline(model='multilayer_perceptron_classifier',\n",
    "                          model_name='MLP example',\n",
    "                          primary_key='UNITID',\n",
    "                          dependent_variable=['CONTROL'],\n",
    "                          cross_validation_parameters='hyperband',\n",
    "                          etl=etl\n",
    "                          )\n",
    "train_mlp = model_mlp.train(train_data, \n",
    "                            n_jobs=10) # parallel hyperparameter optimization and validation!\n",
    "# block until the job finishes\n",
    "train_mlp.result()"
   ]
  },
  {
   "cell_type": "markdown",
   "metadata": {},
   "source": [
    "Let's dig into the hyperband model a little bit. Like the stacking model, the model below starts with ETL and null imputation, but contains some additional steps: a step to scale the predictor variables (which improves neural network performance), and a hyperband searcher containing the MLP."
   ]
  },
  {
   "cell_type": "code",
   "execution_count": 31,
   "metadata": {},
   "outputs": [
    {
     "name": "stdout",
     "output_type": "stream",
     "text": [
      "INFO:tensorflow:Restoring parameters from /tmp/tmpe49np0dv/saved_model\n",
      "DataFrameETL(check_null_cols='warn',\n",
      "       cols_to_drop=['ADM_RATE_ALL', 'OPEID', 'OPEID6', 'ZIP', 'INSTNM', 'INSTURL', 'NPCURL', 'ACCREDAGENCY', 'T4APPROVALDATE', 'STABBR', 'ALIAS', 'REPAY_DT_MDN', 'SEPAR_DT_MDN'],\n",
      "       cols_to_expand=['UNITID', 'OPEID', 'OPEID6', 'INSTNM', 'CITY', 'STABBR', 'ZIP', 'ACCREDAGENCY', 'INSTURL', 'NPCURL', 'SCH_DEG', 'HCM2', 'MAIN', 'NUMBRANCH', 'PREDDEG', 'HIGHDEG', 'CONTROL', 'ST_FIPS', 'REGION', 'LOCALE', 'LOCALE2', 'CCBASIC', 'CCUGPROF', 'CCSIZSET', 'HBCU', 'PBI', 'ANNHI', 'TRIBAL',...RT2', 'CIP54ASSOC', 'CIP54CERT4', 'CIP54BACHL', 'DISTANCEONLY', 'ICLEVEL', 'OPENADMP', 'ACCREDCODE'],\n",
      "       dataframe_output=False, dummy_na=True, fill_value=0.0)\n",
      "\n",
      "\n",
      "Imputer(axis=0, copy=True, missing_values='NaN', strategy='mean', verbose=0)\n",
      "\n",
      "\n",
      "MinMaxScaler(copy=False, feature_range=(0, 1))\n",
      "\n",
      "\n",
      "HyperbandSearchCV(cost_parameter_max={'n_epochs': 50},\n",
      "         cost_parameter_min={'n_epochs': 5}, cv=None, error_score='raise',\n",
      "         estimator=MLPClassifier(activation=<function relu at 0x7f28a5746510>, batch_size=64,\n",
      "       hidden_units=(256,), init_scale=0.1, keep_prob=1.0, n_epochs=5,\n",
      "       random_state=None,\n",
      "       solver=<class 'tensorflow.python.training.adam.AdamOptimizer'>,\n",
      "       solver_kwargs=None),\n",
      "         eta=3, iid=True, n_jobs=1,\n",
      "         param_distributions={'keep_prob': <scipy.stats._distn_infrastructure.rv_frozen object at 0x7f28b44a9400>, 'hidden_units': [(), (16,), (32,), (64,), (64, 64), (64, 64, 64), (128,), (128, 128), (128, 128, 128), (256,), (256, 256), (256, 256, 256), (512, 256, 128, 64), (1024, 512, 256, 128)], 'solver_k...rning_rate': 0.002}, {'learning_rate': 0.005}, {'learning_rate': 0.008}, {'learning_rate': 0.0001}]},\n",
      "         pre_dispatch='2*n_jobs', random_state=42, refit=True,\n",
      "         return_train_score=True, scoring=None, verbose=0)\n",
      "\n",
      "\n"
     ]
    }
   ],
   "source": [
    "for step in train_mlp.estimator.steps:\n",
    "    print(step[1])\n",
    "    print('\\n')"
   ]
  },
  {
   "cell_type": "markdown",
   "metadata": {
    "collapsed": true
   },
   "source": [
    "`HyperbandSearchCV` essentially works like `GridSearchCV`. If you want to get the best estimator without all of the extra CV information, you can access it using the `best_estimator_` attribute."
   ]
  },
  {
   "cell_type": "code",
   "execution_count": 32,
   "metadata": {
    "scrolled": true
   },
   "outputs": [
    {
     "data": {
      "text/plain": [
       "MLPClassifier(activation=<function relu at 0x7f28a5746510>, batch_size=64,\n",
       "       hidden_units=(128, 128), init_scale=0.1,\n",
       "       keep_prob=0.83244264080042174, n_epochs=45, random_state=None,\n",
       "       solver=<class 'tensorflow.python.training.adam.AdamOptimizer'>,\n",
       "       solver_kwargs={'learning_rate': 0.002})"
      ]
     },
     "execution_count": 32,
     "metadata": {},
     "output_type": "execute_result"
    }
   ],
   "source": [
    "train_mlp.estimator.steps[3][1].best_estimator_"
   ]
  },
  {
   "cell_type": "markdown",
   "metadata": {},
   "source": [
    "To see how well the best model performed, you can look at the `best_score_`."
   ]
  },
  {
   "cell_type": "code",
   "execution_count": 33,
   "metadata": {},
   "outputs": [
    {
     "data": {
      "text/plain": [
       "0.94616397760948301"
      ]
     },
     "execution_count": 33,
     "metadata": {},
     "output_type": "execute_result"
    }
   ],
   "source": [
    "train_mlp.estimator.steps[3][1].best_score_"
   ]
  },
  {
   "cell_type": "markdown",
   "metadata": {},
   "source": [
    "And to look at information about the different hyperparameter configurations that were tried, you can look at the `cv_results_`."
   ]
  },
  {
   "cell_type": "code",
   "execution_count": 34,
   "metadata": {},
   "outputs": [
    {
     "data": {
      "text/plain": [
       "{'mean_fit_time': array([  5.71521004,   9.87880683,   7.02491919,   2.49734783,\n",
       "          2.04555511,   3.0459307 ,   1.41299955,   1.03468744,\n",
       "          8.28476421,  13.8823324 ,  17.15766454,   5.7730906 ,\n",
       "          6.91940331,   5.92865777,  55.33232911,  13.65520374,\n",
       "         49.46581841,   7.73342903,  10.29447095,   2.70951978,\n",
       "         17.35557111,  33.21902045]),\n",
       " 'mean_score_time': array([ 0.12489303,  0.25389655,  0.11093688,  0.08840664,  0.0935638 ,\n",
       "         0.11657325,  0.07519325,  0.06182806,  0.2851553 ,  0.15998785,\n",
       "         0.2072041 ,  0.09375119,  0.11130897,  0.1001962 ,  0.22202452,\n",
       "         0.09535344,  0.1758012 ,  0.1068356 ,  0.13764652,  0.05892269,\n",
       "         0.10381524,  0.14680648]),\n",
       " 'mean_test_score': array([ 0.89924267,  0.45702996,  0.45702996,  0.87471189,  0.45702996,\n",
       "         0.91307211,  0.72275272,  0.88508396,  0.55021403,  0.45702996,\n",
       "         0.88162661,  0.93233454,  0.54050049,  0.74349687,  0.91126111,\n",
       "         0.92920645,  0.45702996,  0.92113928,  0.94023708,  0.90434639,\n",
       "         0.94106026,  0.94616398]),\n",
       " 'mean_train_score': array([ 0.9234465 ,  0.45702996,  0.45702996,  0.88417887,  0.45702996,\n",
       "         0.93669558,  0.73147083,  0.89315006,  0.55242091,  0.45702996,\n",
       "         0.8957862 ,  0.97448112,  0.54061033,  0.7705279 ,  0.92862888,\n",
       "         0.96460401,  0.45702996,  0.95423238,  0.97612758,  0.92509068,\n",
       "         0.98781759,  0.98798199]),\n",
       " 'param_hidden_units': masked_array(data = [(128,) (512, 256, 128, 64) (128,) (64, 64) (32,) (128, 128) (16,) ()\n",
       "  (512, 256, 128, 64) (256, 256) (256, 256, 256) (32,) (64, 64) (64,) (256,)\n",
       "  (16,) (256, 256, 256) (128,) (128, 128) () (32,) (128, 128)],\n",
       "              mask = [False False False False False False False False False False False False\n",
       "  False False False False False False False False False False],\n",
       "        fill_value = ?),\n",
       " 'param_keep_prob': masked_array(data = [0.79654298686023284 0.59685015794648699 0.058083612168199461\n",
       "  0.6011150117432088 0.020584494295802447 0.83244264080042174\n",
       "  0.18182496720710062 0.30424224295953772 0.43194501864211576\n",
       "  0.61185289472237947 0.51423443841361161 0.85994040673632055\n",
       "  0.45049925196954299 0.94220175568485276 0.30461376917337069\n",
       "  0.68423302651215689 0.49517691011127019 0.79654298686023284\n",
       "  0.83244264080042174 0.30424224295953772 0.85994040673632055\n",
       "  0.83244264080042174],\n",
       "              mask = [False False False False False False False False False False False False\n",
       "  False False False False False False False False False False],\n",
       "        fill_value = ?),\n",
       " 'param_n_epochs': masked_array(data = [5 5 5 5 5 5 5 5 5 16 16 16 16 16 50 50 50 15 15 15 48 45],\n",
       "              mask = [False False False False False False False False False False False False\n",
       "  False False False False False False False False False False],\n",
       "        fill_value = ?),\n",
       " 'param_solver_kwargs': masked_array(data = [{'learning_rate': 0.008} {'learning_rate': 0.05} {'learning_rate': 0.008}\n",
       "  {'learning_rate': 0.008} {'learning_rate': 0.02} {'learning_rate': 0.002}\n",
       "  {'learning_rate': 0.001} {'learning_rate': 0.002} {'learning_rate': 0.01}\n",
       "  {'learning_rate': 0.05} {'learning_rate': 0.0001} {'learning_rate': 0.005}\n",
       "  {'learning_rate': 0.02} {'learning_rate': 0.02} {'learning_rate': 0.001}\n",
       "  {'learning_rate': 0.005} {'learning_rate': 0.05} {'learning_rate': 0.008}\n",
       "  {'learning_rate': 0.002} {'learning_rate': 0.002} {'learning_rate': 0.005}\n",
       "  {'learning_rate': 0.002}],\n",
       "              mask = [False False False False False False False False False False False False\n",
       "  False False False False False False False False False False],\n",
       "        fill_value = ?),\n",
       " 'params': ({'hidden_units': (128,),\n",
       "   'keep_prob': 0.79654298686023284,\n",
       "   'n_epochs': 5,\n",
       "   'solver_kwargs': {'learning_rate': 0.008}},\n",
       "  {'hidden_units': (512, 256, 128, 64),\n",
       "   'keep_prob': 0.59685015794648699,\n",
       "   'n_epochs': 5,\n",
       "   'solver_kwargs': {'learning_rate': 0.05}},\n",
       "  {'hidden_units': (128,),\n",
       "   'keep_prob': 0.058083612168199461,\n",
       "   'n_epochs': 5,\n",
       "   'solver_kwargs': {'learning_rate': 0.008}},\n",
       "  {'hidden_units': (64, 64),\n",
       "   'keep_prob': 0.6011150117432088,\n",
       "   'n_epochs': 5,\n",
       "   'solver_kwargs': {'learning_rate': 0.008}},\n",
       "  {'hidden_units': (32,),\n",
       "   'keep_prob': 0.020584494295802447,\n",
       "   'n_epochs': 5,\n",
       "   'solver_kwargs': {'learning_rate': 0.02}},\n",
       "  {'hidden_units': (128, 128),\n",
       "   'keep_prob': 0.83244264080042174,\n",
       "   'n_epochs': 5,\n",
       "   'solver_kwargs': {'learning_rate': 0.002}},\n",
       "  {'hidden_units': (16,),\n",
       "   'keep_prob': 0.18182496720710062,\n",
       "   'n_epochs': 5,\n",
       "   'solver_kwargs': {'learning_rate': 0.001}},\n",
       "  {'hidden_units': (),\n",
       "   'keep_prob': 0.30424224295953772,\n",
       "   'n_epochs': 5,\n",
       "   'solver_kwargs': {'learning_rate': 0.002}},\n",
       "  {'hidden_units': (512, 256, 128, 64),\n",
       "   'keep_prob': 0.43194501864211576,\n",
       "   'n_epochs': 5,\n",
       "   'solver_kwargs': {'learning_rate': 0.01}},\n",
       "  {'hidden_units': (256, 256),\n",
       "   'keep_prob': 0.61185289472237947,\n",
       "   'n_epochs': 16,\n",
       "   'solver_kwargs': {'learning_rate': 0.05}},\n",
       "  {'hidden_units': (256, 256, 256),\n",
       "   'keep_prob': 0.51423443841361161,\n",
       "   'n_epochs': 16,\n",
       "   'solver_kwargs': {'learning_rate': 0.0001}},\n",
       "  {'hidden_units': (32,),\n",
       "   'keep_prob': 0.85994040673632055,\n",
       "   'n_epochs': 16,\n",
       "   'solver_kwargs': {'learning_rate': 0.005}},\n",
       "  {'hidden_units': (64, 64),\n",
       "   'keep_prob': 0.45049925196954299,\n",
       "   'n_epochs': 16,\n",
       "   'solver_kwargs': {'learning_rate': 0.02}},\n",
       "  {'hidden_units': (64,),\n",
       "   'keep_prob': 0.94220175568485276,\n",
       "   'n_epochs': 16,\n",
       "   'solver_kwargs': {'learning_rate': 0.02}},\n",
       "  {'hidden_units': (256,),\n",
       "   'keep_prob': 0.30461376917337069,\n",
       "   'n_epochs': 50,\n",
       "   'solver_kwargs': {'learning_rate': 0.001}},\n",
       "  {'hidden_units': (16,),\n",
       "   'keep_prob': 0.68423302651215689,\n",
       "   'n_epochs': 50,\n",
       "   'solver_kwargs': {'learning_rate': 0.005}},\n",
       "  {'hidden_units': (256, 256, 256),\n",
       "   'keep_prob': 0.49517691011127019,\n",
       "   'n_epochs': 50,\n",
       "   'solver_kwargs': {'learning_rate': 0.05}},\n",
       "  {'hidden_units': (128,),\n",
       "   'keep_prob': 0.79654298686023284,\n",
       "   'n_epochs': 15,\n",
       "   'solver_kwargs': {'learning_rate': 0.008}},\n",
       "  {'hidden_units': (128, 128),\n",
       "   'keep_prob': 0.83244264080042174,\n",
       "   'n_epochs': 15,\n",
       "   'solver_kwargs': {'learning_rate': 0.002}},\n",
       "  {'hidden_units': (),\n",
       "   'keep_prob': 0.30424224295953772,\n",
       "   'n_epochs': 15,\n",
       "   'solver_kwargs': {'learning_rate': 0.002}},\n",
       "  {'hidden_units': (32,),\n",
       "   'keep_prob': 0.85994040673632055,\n",
       "   'n_epochs': 48,\n",
       "   'solver_kwargs': {'learning_rate': 0.005}},\n",
       "  {'hidden_units': (128, 128),\n",
       "   'keep_prob': 0.83244264080042174,\n",
       "   'n_epochs': 45,\n",
       "   'solver_kwargs': {'learning_rate': 0.002}}),\n",
       " 'rank_test_score': array([10, 18, 18, 13, 18,  7, 15, 11, 16, 18, 12,  4, 17, 14,  8,  5, 18,\n",
       "         6,  3,  9,  2,  1], dtype=int32),\n",
       " 'split0_test_score': array([ 0.91461007,  0.45705824,  0.45705824,  0.88302073,  0.45705824,\n",
       "         0.90819348,  0.67966436,  0.8810464 ,  0.45705824,  0.45705824,\n",
       "         0.8810464 ,  0.93188549,  0.70730503,  0.45705824,  0.90720632,\n",
       "         0.93435341,  0.45705824,  0.93089832,  0.94521224,  0.90967423,\n",
       "         0.94718657,  0.95162883]),\n",
       " 'split0_train_score': array([ 0.9375    ,  0.45701581,  0.45701581,  0.88661067,  0.45701581,\n",
       "         0.92564229,  0.68527668,  0.88661067,  0.45701581,  0.45701581,\n",
       "         0.90118577,  0.97282609,  0.70775692,  0.45701581,  0.92045455,\n",
       "         0.96936759,  0.45701581,  0.96170949,  0.97504941,  0.92588933,\n",
       "         0.99184783,  0.99061265]),\n",
       " 'split1_test_score': array([ 0.90316206,  0.45701581,  0.45701581,  0.87401186,  0.45701581,\n",
       "         0.92094862,  0.71492095,  0.87994071,  0.62450593,  0.45701581,\n",
       "         0.87401186,  0.93527668,  0.45701581,  0.87302372,  0.90810277,\n",
       "         0.93132411,  0.45701581,  0.92539526,  0.93181818,  0.90513834,\n",
       "         0.93527668,  0.94021739]),\n",
       " 'split1_train_score': array([ 0.93432099,  0.45703704,  0.45703704,  0.8854321 ,  0.45703704,\n",
       "         0.94864198,  0.73728395,  0.88987654,  0.63901235,  0.45703704,\n",
       "         0.89061728,  0.97876543,  0.45703704,  0.90740741,  0.93283951,\n",
       "         0.96962963,  0.45703704,  0.96345679,  0.97382716,  0.93432099,\n",
       "         0.98691358,  0.98691358]),\n",
       " 'split2_test_score': array([ 0.87994071,  0.45701581,  0.45701581,  0.86709486,  0.45701581,\n",
       "         0.91007905,  0.77371542,  0.89426877,  0.56916996,  0.45701581,\n",
       "         0.88982213,  0.9298419 ,  0.45701581,  0.9006917 ,  0.91847826,\n",
       "         0.92193676,  0.45701581,  0.90711462,  0.94367589,  0.89822134,\n",
       "         0.94071146,  0.94664032]),\n",
       " 'split2_train_score': array([ 0.89851852,  0.45703704,  0.45703704,  0.88049383,  0.45703704,\n",
       "         0.93580247,  0.77185185,  0.90296296,  0.56123457,  0.45703704,\n",
       "         0.89555556,  0.97185185,  0.45703704,  0.94716049,  0.93259259,\n",
       "         0.95481481,  0.45703704,  0.93753086,  0.97950617,  0.91506173,\n",
       "         0.98469136,  0.98641975]),\n",
       " 'std_fit_time': array([ 1.37948502,  2.05526639,  3.2464671 ,  0.50829486,  0.49376665,\n",
       "         0.16138088,  0.01638957,  0.03163927,  0.37672038,  0.1275633 ,\n",
       "         1.76849646,  0.66819983,  1.84264573,  0.64170712,  8.03222655,\n",
       "         2.66716171,  2.94213638,  0.03909851,  1.61943898,  0.02392876,\n",
       "         2.14579761,  6.55491198]),\n",
       " 'std_score_time': array([ 0.0303808 ,  0.0035742 ,  0.01347911,  0.00391845,  0.00073238,\n",
       "         0.00871074,  0.00049139,  0.00370175,  0.02670011,  0.0021613 ,\n",
       "         0.02528999,  0.001849  ,  0.03923516,  0.01926425,  0.05806998,\n",
       "         0.02840535,  0.00227157,  0.00641461,  0.03439537,  0.00013065,\n",
       "         0.01539214,  0.05509931]),\n",
       " 'std_test_score': array([  1.44234985e-02,   2.00061944e-05,   2.00061944e-05,\n",
       "          6.52104784e-03,   2.00061944e-05,   5.62112199e-03,\n",
       "          3.87964203e-02,   6.50871187e-03,   6.96668104e-02,\n",
       "          2.00061944e-05,   6.46649654e-03,   2.24100711e-03,\n",
       "          1.18006882e-01,   2.02957201e-01,   5.11514515e-03,\n",
       "          5.28591261e-03,   2.00061944e-05,   1.01658774e-02,\n",
       "          5.98455096e-03,   4.70940337e-03,   4.86884145e-03,\n",
       "          4.67123452e-03]),\n",
       " 'std_train_score': array([  1.76744600e-02,   1.00063908e-05,   1.00063908e-05,\n",
       "          2.64976626e-03,   1.00063908e-05,   9.41079474e-03,\n",
       "          3.55823871e-02,   7.06570527e-03,   7.45606919e-02,\n",
       "          1.00063908e-05,   4.31764806e-03,   3.05546044e-03,\n",
       "          1.18190485e-01,   2.22279781e-01,   5.78100728e-03,\n",
       "          6.92283370e-03,   1.00063908e-05,   1.18312790e-02,\n",
       "          2.44057891e-03,   7.88281440e-03,   2.99072806e-03,\n",
       "          1.87104661e-03])}"
      ]
     },
     "execution_count": 34,
     "metadata": {},
     "output_type": "execute_result"
    }
   ],
   "source": [
    "train_mlp.estimator.steps[3][1].cv_results_"
   ]
  },
  {
   "cell_type": "markdown",
   "metadata": {},
   "source": [
    "Just like any other model in CivisML, we can use hyperband-tuned models to make predictions using `.predict()` on the `ModelPipeline`."
   ]
  },
  {
   "cell_type": "code",
   "execution_count": 35,
   "metadata": {
    "collapsed": true
   },
   "outputs": [],
   "source": [
    "predict_mlp = model_mlp.predict(test_data)"
   ]
  },
  {
   "cell_type": "code",
   "execution_count": 36,
   "metadata": {},
   "outputs": [
    {
     "data": {
      "text/html": [
       "<div>\n",
       "<style>\n",
       "    .dataframe thead tr:only-child th {\n",
       "        text-align: right;\n",
       "    }\n",
       "\n",
       "    .dataframe thead th {\n",
       "        text-align: left;\n",
       "    }\n",
       "\n",
       "    .dataframe tbody tr th {\n",
       "        vertical-align: top;\n",
       "    }\n",
       "</style>\n",
       "<table border=\"1\" class=\"dataframe\">\n",
       "  <thead>\n",
       "    <tr style=\"text-align: right;\">\n",
       "      <th></th>\n",
       "      <th>control_1</th>\n",
       "      <th>control_2</th>\n",
       "      <th>control_3</th>\n",
       "    </tr>\n",
       "    <tr>\n",
       "      <th>UNITID</th>\n",
       "      <th></th>\n",
       "      <th></th>\n",
       "      <th></th>\n",
       "    </tr>\n",
       "  </thead>\n",
       "  <tbody>\n",
       "    <tr>\n",
       "      <th>217882</th>\n",
       "      <td>9.999834e-01</td>\n",
       "      <td>0.000016</td>\n",
       "      <td>4.727007e-07</td>\n",
       "    </tr>\n",
       "    <tr>\n",
       "      <th>195234</th>\n",
       "      <td>1.779818e-03</td>\n",
       "      <td>0.996192</td>\n",
       "      <td>2.028217e-03</td>\n",
       "    </tr>\n",
       "    <tr>\n",
       "      <th>446385</th>\n",
       "      <td>8.158081e-07</td>\n",
       "      <td>0.005291</td>\n",
       "      <td>9.947079e-01</td>\n",
       "    </tr>\n",
       "    <tr>\n",
       "      <th>13508115</th>\n",
       "      <td>1.671655e-02</td>\n",
       "      <td>0.972799</td>\n",
       "      <td>1.048439e-02</td>\n",
       "    </tr>\n",
       "    <tr>\n",
       "      <th>459499</th>\n",
       "      <td>4.405403e-03</td>\n",
       "      <td>0.035383</td>\n",
       "      <td>9.602115e-01</td>\n",
       "    </tr>\n",
       "  </tbody>\n",
       "</table>\n",
       "</div>"
      ],
      "text/plain": [
       "             control_1  control_2     control_3\n",
       "UNITID                                         \n",
       "217882    9.999834e-01   0.000016  4.727007e-07\n",
       "195234    1.779818e-03   0.996192  2.028217e-03\n",
       "446385    8.158081e-07   0.005291  9.947079e-01\n",
       "13508115  1.671655e-02   0.972799  1.048439e-02\n",
       "459499    4.405403e-03   0.035383  9.602115e-01"
      ]
     },
     "execution_count": 36,
     "metadata": {},
     "output_type": "execute_result"
    }
   ],
   "source": [
    "predict_mlp.table.head()"
   ]
  },
  {
   "cell_type": "markdown",
   "metadata": {},
   "source": [
    "It looks like this model is predicting the same categories as the models we tried earlier, so we can feel very confident about those predictions."
   ]
  },
  {
   "cell_type": "markdown",
   "metadata": {},
   "source": [
    "We're excited to see what problems you solve with these new capabilities. If you have any problems or questions, contact us at support@civisanalytics.com. Happy modeling!"
   ]
  }
 ],
 "metadata": {
  "kernelspec": {
   "display_name": "Python 3",
   "language": "python",
   "name": "python3"
  },
  "language_info": {
   "codemirror_mode": {
    "name": "ipython",
    "version": 3
   },
   "file_extension": ".py",
   "mimetype": "text/x-python",
   "name": "python",
   "nbconvert_exporter": "python",
   "pygments_lexer": "ipython3",
   "version": "3.6.2"
  }
 },
 "nbformat": 4,
 "nbformat_minor": 2
}
