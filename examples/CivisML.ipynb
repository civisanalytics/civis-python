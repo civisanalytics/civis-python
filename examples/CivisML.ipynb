{
 "cells": [
  {
   "cell_type": "markdown",
   "metadata": {},
   "source": [
    "# Example CivisML Notebook\n",
    "## Setup\n",
    "This notebook will highlight CivisML features and provide example code and commentary with some sample data from a company called Brandable. We'll start with outlining the model types and the parameters users have available to them before working through training and prediction."
   ]
  },
  {
   "cell_type": "code",
   "execution_count": 1,
   "metadata": {
    "collapsed": true
   },
   "outputs": [],
   "source": [
    "from civis.ml import ModelPipeline\n",
    "from civis import APIClient\n",
    "client = APIClient()\n",
    "\n",
    "# dynamically get database name\n",
    "creds = client.credentials.list()\n",
    "dbs = [db for db in find(creds, type='Database')\n",
    "       if 'redshift' in db.name.lower()]\n",
    "db_name = dbs[0].name"
   ]
  },
  {
   "cell_type": "markdown",
   "metadata": {},
   "source": [
    "In the first example, we'll use a random forest model from [scikit-learn](http://scikit-learn.org/stable/modules/ensemble.html#forest). In addition, we'll grid search over hyperparameters for the maximum depth of the tree and the number of trees to optimally predict which users choose to upgrade to a premium service from the free version. Our data are in an AWS Redshift database on Civis Platform."
   ]
  },
  {
   "cell_type": "code",
   "execution_count": 2,
   "metadata": {
    "collapsed": true
   },
   "outputs": [],
   "source": [
    "model = ModelPipeline('random_forest_classifier',\n",
    "                      dependent_variable='upgrade',\n",
    "                      primary_key='brandable_user_id',\n",
    "                      model_name='Brandable \"upgrade\" CivisML model',\n",
    "                      excluded_columns=['residential_zip'],\n",
    "                      cross_validation_parameters={\"max_depth\": [2, 3, 5],\n",
    "                                                   \"n_estimators\": [50, 100, 500]})"
   ]
  },
  {
   "cell_type": "code",
   "execution_count": 3,
   "metadata": {
    "collapsed": true
   },
   "outputs": [],
   "source": [
    "from civis.io import read_civis\n",
    "df = read_civis(table='sample_project.brandable_training_set',\n",
    "                database=db_name,\n",
    "                use_pandas=True)"
   ]
  },
  {
   "cell_type": "code",
   "execution_count": 4,
   "metadata": {},
   "outputs": [
    {
     "name": "stdout",
     "output_type": "stream",
     "text": [
      "Data has dimensions: (1000, 88)\n"
     ]
    },
    {
     "data": {
      "text/html": [
       "<div>\n",
       "<table border=\"1\" class=\"dataframe\">\n",
       "  <thead>\n",
       "    <tr style=\"text-align: right;\">\n",
       "      <th></th>\n",
       "      <th>brandable_user_id</th>\n",
       "      <th>upgrade</th>\n",
       "      <th>residential_zip</th>\n",
       "      <th>census10_county_is_in_msa</th>\n",
       "      <th>census10_is_in_place</th>\n",
       "      <th>census10_place_is_in_principal_city</th>\n",
       "      <th>census10_pct_under18</th>\n",
       "      <th>census10_pct_18plus</th>\n",
       "      <th>census10_pct_18to34</th>\n",
       "      <th>census10_pct_35to64</th>\n",
       "      <th>...</th>\n",
       "      <th>acs14_pct_commute_over90min</th>\n",
       "      <th>acs14_pct_vehicle_available</th>\n",
       "      <th>acs14_pct_enrolled_in_higher_ed</th>\n",
       "      <th>acs14_pct_educ_no_hs</th>\n",
       "      <th>acs14_pct_educ_bachelors</th>\n",
       "      <th>acs14_pct_speak_only_english</th>\n",
       "      <th>acs14_pct_in_labor_force</th>\n",
       "      <th>acs14_pct_disabled</th>\n",
       "      <th>total_orders</th>\n",
       "      <th>weeks_as_user</th>\n",
       "    </tr>\n",
       "  </thead>\n",
       "  <tbody>\n",
       "    <tr>\n",
       "      <th>0</th>\n",
       "      <td>01f3f292d7201ff</td>\n",
       "      <td>0</td>\n",
       "      <td>45011</td>\n",
       "      <td>1</td>\n",
       "      <td>0</td>\n",
       "      <td>0</td>\n",
       "      <td>0.350267</td>\n",
       "      <td>0.649733</td>\n",
       "      <td>0.128342</td>\n",
       "      <td>0.481283</td>\n",
       "      <td>...</td>\n",
       "      <td>0.023485</td>\n",
       "      <td>0.982299</td>\n",
       "      <td>0.097506</td>\n",
       "      <td>0.085747</td>\n",
       "      <td>0.482302</td>\n",
       "      <td>0.857657</td>\n",
       "      <td>0.724399</td>\n",
       "      <td>0.031550</td>\n",
       "      <td>1</td>\n",
       "      <td>24.6</td>\n",
       "    </tr>\n",
       "    <tr>\n",
       "      <th>1</th>\n",
       "      <td>09d737b0cd46d3b</td>\n",
       "      <td>1</td>\n",
       "      <td>43611</td>\n",
       "      <td>1</td>\n",
       "      <td>0</td>\n",
       "      <td>0</td>\n",
       "      <td>0.207792</td>\n",
       "      <td>0.792208</td>\n",
       "      <td>0.207792</td>\n",
       "      <td>0.376623</td>\n",
       "      <td>...</td>\n",
       "      <td>0.036976</td>\n",
       "      <td>0.995948</td>\n",
       "      <td>0.073047</td>\n",
       "      <td>0.102290</td>\n",
       "      <td>0.150891</td>\n",
       "      <td>0.948855</td>\n",
       "      <td>0.648092</td>\n",
       "      <td>0.142474</td>\n",
       "      <td>6</td>\n",
       "      <td>24.0</td>\n",
       "    </tr>\n",
       "    <tr>\n",
       "      <th>2</th>\n",
       "      <td>144c2c9278ae7b8</td>\n",
       "      <td>1</td>\n",
       "      <td>43515</td>\n",
       "      <td>1</td>\n",
       "      <td>0</td>\n",
       "      <td>0</td>\n",
       "      <td>0.275329</td>\n",
       "      <td>0.724671</td>\n",
       "      <td>0.210361</td>\n",
       "      <td>0.388952</td>\n",
       "      <td>...</td>\n",
       "      <td>0.031269</td>\n",
       "      <td>0.934026</td>\n",
       "      <td>0.085178</td>\n",
       "      <td>0.099053</td>\n",
       "      <td>0.155469</td>\n",
       "      <td>0.971146</td>\n",
       "      <td>0.729113</td>\n",
       "      <td>0.095766</td>\n",
       "      <td>4</td>\n",
       "      <td>24.4</td>\n",
       "    </tr>\n",
       "    <tr>\n",
       "      <th>3</th>\n",
       "      <td>222074d21a2e2f0</td>\n",
       "      <td>0</td>\n",
       "      <td>43558</td>\n",
       "      <td>1</td>\n",
       "      <td>0</td>\n",
       "      <td>0</td>\n",
       "      <td>0.184358</td>\n",
       "      <td>0.815642</td>\n",
       "      <td>0.206704</td>\n",
       "      <td>0.530726</td>\n",
       "      <td>...</td>\n",
       "      <td>0.013513</td>\n",
       "      <td>0.992593</td>\n",
       "      <td>0.038514</td>\n",
       "      <td>0.088274</td>\n",
       "      <td>0.133475</td>\n",
       "      <td>0.981920</td>\n",
       "      <td>0.702739</td>\n",
       "      <td>0.117063</td>\n",
       "      <td>2</td>\n",
       "      <td>25.1</td>\n",
       "    </tr>\n",
       "    <tr>\n",
       "      <th>4</th>\n",
       "      <td>22a38064bb8aeb7</td>\n",
       "      <td>0</td>\n",
       "      <td>44060</td>\n",
       "      <td>1</td>\n",
       "      <td>1</td>\n",
       "      <td>0</td>\n",
       "      <td>0.262295</td>\n",
       "      <td>0.737705</td>\n",
       "      <td>0.114754</td>\n",
       "      <td>0.549180</td>\n",
       "      <td>...</td>\n",
       "      <td>0.020622</td>\n",
       "      <td>0.987624</td>\n",
       "      <td>0.087978</td>\n",
       "      <td>0.042164</td>\n",
       "      <td>0.367049</td>\n",
       "      <td>0.942237</td>\n",
       "      <td>0.657324</td>\n",
       "      <td>0.075758</td>\n",
       "      <td>2</td>\n",
       "      <td>24.2</td>\n",
       "    </tr>\n",
       "  </tbody>\n",
       "</table>\n",
       "<p>5 rows × 88 columns</p>\n",
       "</div>"
      ],
      "text/plain": [
       "  brandable_user_id  upgrade  residential_zip  census10_county_is_in_msa  \\\n",
       "0   01f3f292d7201ff        0            45011                          1   \n",
       "1   09d737b0cd46d3b        1            43611                          1   \n",
       "2   144c2c9278ae7b8        1            43515                          1   \n",
       "3   222074d21a2e2f0        0            43558                          1   \n",
       "4   22a38064bb8aeb7        0            44060                          1   \n",
       "\n",
       "   census10_is_in_place  census10_place_is_in_principal_city  \\\n",
       "0                     0                                    0   \n",
       "1                     0                                    0   \n",
       "2                     0                                    0   \n",
       "3                     0                                    0   \n",
       "4                     1                                    0   \n",
       "\n",
       "   census10_pct_under18  census10_pct_18plus  census10_pct_18to34  \\\n",
       "0              0.350267             0.649733             0.128342   \n",
       "1              0.207792             0.792208             0.207792   \n",
       "2              0.275329             0.724671             0.210361   \n",
       "3              0.184358             0.815642             0.206704   \n",
       "4              0.262295             0.737705             0.114754   \n",
       "\n",
       "   census10_pct_35to64      ...        acs14_pct_commute_over90min  \\\n",
       "0             0.481283      ...                           0.023485   \n",
       "1             0.376623      ...                           0.036976   \n",
       "2             0.388952      ...                           0.031269   \n",
       "3             0.530726      ...                           0.013513   \n",
       "4             0.549180      ...                           0.020622   \n",
       "\n",
       "   acs14_pct_vehicle_available  acs14_pct_enrolled_in_higher_ed  \\\n",
       "0                     0.982299                         0.097506   \n",
       "1                     0.995948                         0.073047   \n",
       "2                     0.934026                         0.085178   \n",
       "3                     0.992593                         0.038514   \n",
       "4                     0.987624                         0.087978   \n",
       "\n",
       "   acs14_pct_educ_no_hs  acs14_pct_educ_bachelors  \\\n",
       "0              0.085747                  0.482302   \n",
       "1              0.102290                  0.150891   \n",
       "2              0.099053                  0.155469   \n",
       "3              0.088274                  0.133475   \n",
       "4              0.042164                  0.367049   \n",
       "\n",
       "   acs14_pct_speak_only_english  acs14_pct_in_labor_force  acs14_pct_disabled  \\\n",
       "0                      0.857657                  0.724399            0.031550   \n",
       "1                      0.948855                  0.648092            0.142474   \n",
       "2                      0.971146                  0.729113            0.095766   \n",
       "3                      0.981920                  0.702739            0.117063   \n",
       "4                      0.942237                  0.657324            0.075758   \n",
       "\n",
       "   total_orders  weeks_as_user  \n",
       "0             1           24.6  \n",
       "1             6           24.0  \n",
       "2             4           24.4  \n",
       "3             2           25.1  \n",
       "4             2           24.2  \n",
       "\n",
       "[5 rows x 88 columns]"
      ]
     },
     "execution_count": 4,
     "metadata": {},
     "output_type": "execute_result"
    }
   ],
   "source": [
    "print('Data has dimensions: {}'.format(df.shape))\n",
    "df.head()"
   ]
  },
  {
   "cell_type": "markdown",
   "metadata": {},
   "source": [
    "# Training\n",
    "\n",
    "There are many ways to train a model -- you can use a `pandas.DataFrame`, a CSV file stored on Civis Platform at the Files endpoint, or a Redshift table. In this example, we'll walk through training from a `pandas.DataFrame`. We'll use our `ModelPipeline` class to make a `ModelFuture` corresponding to a Civis Platform model training job."
   ]
  },
  {
   "cell_type": "code",
   "execution_count": 5,
   "metadata": {
    "collapsed": true
   },
   "outputs": [],
   "source": [
    "train = model.train(df)"
   ]
  },
  {
   "cell_type": "code",
   "execution_count": 6,
   "metadata": {},
   "outputs": [
    {
     "data": {
      "text/plain": [
       "{'container_id': 5676302,\n",
       " 'error': None,\n",
       " 'finished_at': '2017-05-08T22:18:13.000Z',\n",
       " 'id': 48418170,\n",
       " 'is_cancel_requested': False,\n",
       " 'started_at': '2017-05-08T22:15:24.000Z',\n",
       " 'state': 'succeeded'}"
      ]
     },
     "execution_count": 6,
     "metadata": {},
     "output_type": "execute_result"
    }
   ],
   "source": [
    "train.result()  # success!"
   ]
  },
  {
   "cell_type": "markdown",
   "metadata": {
    "collapsed": true
   },
   "source": [
    "We can find out which hyperparameter combination was optimal and easily extract out-of-sample scoring metrics, as well as metadata."
   ]
  },
  {
   "cell_type": "code",
   "execution_count": 7,
   "metadata": {},
   "outputs": [
    {
     "data": {
      "text/plain": [
       "GridSearchCV(cv=5, error_score='raise',\n",
       "       estimator=Pipeline(steps=[('imputer', Imputer(axis=0, copy=True, missing_values='NaN', strategy='mean', verbose=0)), ('randomforestclassifier', RandomForestClassifier(bootstrap=True, class_weight=None, criterion='gini',\n",
       "            max_depth=None, max_features='sqrt', max_leaf_nodes=None,\n",
       "            min_impurity_spli...stimators=10, n_jobs=1, oob_score=False, random_state=42,\n",
       "            verbose=0, warm_start=False))]),\n",
       "       fit_params={}, iid=True, n_jobs=1,\n",
       "       param_grid={'randomforestclassifier__n_estimators': [50, 100, 500], 'randomforestclassifier__max_depth': [2, 3, 5]},\n",
       "       pre_dispatch='n_jobs', refit=True, return_train_score=True,\n",
       "       scoring='neg_log_loss', verbose=0)"
      ]
     },
     "execution_count": 7,
     "metadata": {},
     "output_type": "execute_result"
    }
   ],
   "source": [
    "train.estimator"
   ]
  },
  {
   "cell_type": "code",
   "execution_count": 8,
   "metadata": {},
   "outputs": [
    {
     "data": {
      "text/plain": [
       "{'randomforestclassifier__max_depth': 5,\n",
       " 'randomforestclassifier__n_estimators': 500}"
      ]
     },
     "execution_count": 8,
     "metadata": {},
     "output_type": "execute_result"
    }
   ],
   "source": [
    "train.estimator.best_params_"
   ]
  },
  {
   "cell_type": "code",
   "execution_count": 9,
   "metadata": {},
   "outputs": [
    {
     "data": {
      "text/plain": [
       "0.8007542663663708"
      ]
     },
     "execution_count": 9,
     "metadata": {},
     "output_type": "execute_result"
    }
   ],
   "source": [
    "train.metrics['roc_auc']"
   ]
  },
  {
   "cell_type": "code",
   "execution_count": 10,
   "metadata": {},
   "outputs": [
    {
     "data": {
      "text/plain": [
       "dict_keys(['accuracy', 'confusion_matrix', 'p_correct', 'pop_incidence_true', 'pop_incidence_pred', 'roc_auc', 'log_loss', 'brier_score', 'roc_curve', 'calibration_curve', 'deciles', 'score_histogram', 'training_histogram', 'oos_score_table'])"
      ]
     },
     "execution_count": 10,
     "metadata": {},
     "output_type": "execute_result"
    }
   ],
   "source": [
    "train.metrics.keys()  # lots of other metrics here too"
   ]
  },
  {
   "cell_type": "code",
   "execution_count": 11,
   "metadata": {},
   "outputs": [
    {
     "data": {
      "text/html": [
       "<div>\n",
       "<table border=\"1\" class=\"dataframe\">\n",
       "  <thead>\n",
       "    <tr style=\"text-align: right;\">\n",
       "      <th></th>\n",
       "      <th>upgrade_1</th>\n",
       "    </tr>\n",
       "    <tr>\n",
       "      <th>brandable_user_id</th>\n",
       "      <th></th>\n",
       "    </tr>\n",
       "  </thead>\n",
       "  <tbody>\n",
       "    <tr>\n",
       "      <th>01f3f292d7201ff</th>\n",
       "      <td>0.044406</td>\n",
       "    </tr>\n",
       "    <tr>\n",
       "      <th>09d737b0cd46d3b</th>\n",
       "      <td>0.401671</td>\n",
       "    </tr>\n",
       "    <tr>\n",
       "      <th>144c2c9278ae7b8</th>\n",
       "      <td>0.228400</td>\n",
       "    </tr>\n",
       "    <tr>\n",
       "      <th>222074d21a2e2f0</th>\n",
       "      <td>0.125058</td>\n",
       "    </tr>\n",
       "    <tr>\n",
       "      <th>22a38064bb8aeb7</th>\n",
       "      <td>0.055437</td>\n",
       "    </tr>\n",
       "  </tbody>\n",
       "</table>\n",
       "</div>"
      ],
      "text/plain": [
       "                   upgrade_1\n",
       "brandable_user_id           \n",
       "01f3f292d7201ff     0.044406\n",
       "09d737b0cd46d3b     0.401671\n",
       "144c2c9278ae7b8     0.228400\n",
       "222074d21a2e2f0     0.125058\n",
       "22a38064bb8aeb7     0.055437"
      ]
     },
     "execution_count": 11,
     "metadata": {},
     "output_type": "execute_result"
    }
   ],
   "source": [
    "train.table.head()  # out-of-sample scores"
   ]
  },
  {
   "cell_type": "markdown",
   "metadata": {},
   "source": [
    "### Fitting Custom Models\n",
    "\n",
    "It is often the case that we have some intuitions about what estimation strategies might be best -- and they might not be supported as preconfigured CivisML workflows. Thankfully, using your own scikit-learn estimators is supported in `ModelPipeline`!"
   ]
  },
  {
   "cell_type": "code",
   "execution_count": 12,
   "metadata": {},
   "outputs": [
    {
     "data": {
      "text/plain": [
       "SVC(C=1.0, cache_size=200, class_weight=None, coef0=0.0,\n",
       "  decision_function_shape=None, degree=3, gamma='auto', kernel='rbf',\n",
       "  max_iter=-1, probability=True, random_state=None, shrinking=True,\n",
       "  tol=0.001, verbose=False)"
      ]
     },
     "execution_count": 12,
     "metadata": {},
     "output_type": "execute_result"
    }
   ],
   "source": [
    "from sklearn.svm import SVC\n",
    "# we need  to call `predict_proba` for our predictions\n",
    "# so we set `probability=True`\n",
    "est = SVC(probability=True,\n",
    "          kernel='rbf')\n",
    "\n",
    "model_custom = ModelPipeline(model=est,\n",
    "                             dependent_variable='upgrade',\n",
    "                             primary_key='brandable_user_id',\n",
    "                             model_name='Brandable \"upgrade\" CivisML custom model',\n",
    "                             excluded_columns=['residential_zip'])\n",
    "\n",
    "model_custom.model"
   ]
  },
  {
   "cell_type": "code",
   "execution_count": 13,
   "metadata": {
    "collapsed": true
   },
   "outputs": [],
   "source": [
    "train_custom = model_custom.train(table_name='sample_project.brandable_training_set',\n",
    "                                  database_name=db_name)"
   ]
  },
  {
   "cell_type": "markdown",
   "metadata": {},
   "source": [
    "This time we'll use our `scratch.brandable_training` table in Redshift instead of a dataframe."
   ]
  },
  {
   "cell_type": "code",
   "execution_count": 14,
   "metadata": {},
   "outputs": [
    {
     "data": {
      "text/plain": [
       "{'container_id': 5676326,\n",
       " 'error': None,\n",
       " 'finished_at': '2017-05-08T22:18:59.000Z',\n",
       " 'id': 48418500,\n",
       " 'is_cancel_requested': False,\n",
       " 'started_at': '2017-05-08T22:18:32.000Z',\n",
       " 'state': 'succeeded'}"
      ]
     },
     "execution_count": 14,
     "metadata": {},
     "output_type": "execute_result"
    }
   ],
   "source": [
    "train_custom.result()  # wait for result"
   ]
  },
  {
   "cell_type": "code",
   "execution_count": 15,
   "metadata": {},
   "outputs": [
    {
     "data": {
      "text/plain": [
       "0.4912858805568572"
      ]
     },
     "execution_count": 15,
     "metadata": {},
     "output_type": "execute_result"
    }
   ],
   "source": [
    "train_custom.metrics['roc_auc'] "
   ]
  },
  {
   "cell_type": "markdown",
   "metadata": {},
   "source": [
    "## Prediction\n",
    "\n",
    "We can use our `ModelPipeline` objects for prediction, too. You can predict with the same sources of data as for training (i.e., CSVs stored at the Files endpoint, `pandas.DataFrames`, and tables on Redshift). Here, You can use your original random forest to predict on a much larger dataset."
   ]
  },
  {
   "cell_type": "code",
   "execution_count": 16,
   "metadata": {
    "collapsed": true
   },
   "outputs": [],
   "source": [
    "predict = model.predict(table_name='sample_project.brandable_all_users',\n",
    "                        database_name=db_name,\n",
    "                        output_table='sample_project.brandable_user_scores')"
   ]
  },
  {
   "cell_type": "code",
   "execution_count": 18,
   "metadata": {},
   "outputs": [
    {
     "data": {
      "text/html": [
       "<div>\n",
       "<table border=\"1\" class=\"dataframe\">\n",
       "  <thead>\n",
       "    <tr style=\"text-align: right;\">\n",
       "      <th></th>\n",
       "      <th>upgrade_1</th>\n",
       "    </tr>\n",
       "    <tr>\n",
       "      <th>brandable_user_id</th>\n",
       "      <th></th>\n",
       "    </tr>\n",
       "  </thead>\n",
       "  <tbody>\n",
       "    <tr>\n",
       "      <th>00214b9181f2347</th>\n",
       "      <td>0.488163</td>\n",
       "    </tr>\n",
       "    <tr>\n",
       "      <th>004ac2d6147bdcd</th>\n",
       "      <td>0.129830</td>\n",
       "    </tr>\n",
       "    <tr>\n",
       "      <th>004df4f87236346</th>\n",
       "      <td>0.692678</td>\n",
       "    </tr>\n",
       "    <tr>\n",
       "      <th>0064ab441715d02</th>\n",
       "      <td>0.358899</td>\n",
       "    </tr>\n",
       "    <tr>\n",
       "      <th>00691fc4caa7f29</th>\n",
       "      <td>0.184070</td>\n",
       "    </tr>\n",
       "  </tbody>\n",
       "</table>\n",
       "</div>"
      ],
      "text/plain": [
       "                   upgrade_1\n",
       "brandable_user_id           \n",
       "00214b9181f2347     0.488163\n",
       "004ac2d6147bdcd     0.129830\n",
       "004df4f87236346     0.692678\n",
       "0064ab441715d02     0.358899\n",
       "00691fc4caa7f29     0.184070"
      ]
     },
     "execution_count": 18,
     "metadata": {},
     "output_type": "execute_result"
    }
   ],
   "source": [
    "predict.table.head()"
   ]
  },
  {
   "cell_type": "markdown",
   "metadata": {},
   "source": [
    "## Recreating CivisML models\n",
    "\n",
    "It's also straightforward to recreate models you've previously used from the model ID. In this example, we'll recreate the model associated with our eariler training run."
   ]
  },
  {
   "cell_type": "code",
   "execution_count": 19,
   "metadata": {},
   "outputs": [
    {
     "data": {
      "text/plain": [
       "'Brandable \"upgrade\" CivisML model'"
      ]
     },
     "execution_count": 19,
     "metadata": {},
     "output_type": "execute_result"
    }
   ],
   "source": [
    "old_model = ModelPipeline.from_existing(train.job_id)\n",
    "old_model.model_name  # same as before!"
   ]
  }
 ],
 "metadata": {
  "kernelspec": {
   "display_name": "Python 3",
   "language": "python",
   "name": "python3"
  },
  "language_info": {
   "codemirror_mode": {
    "name": "ipython",
    "version": 3
   },
   "file_extension": ".py",
   "mimetype": "text/x-python",
   "name": "python",
   "nbconvert_exporter": "python",
   "pygments_lexer": "ipython3",
   "version": "3.6.1"
  }
 },
 "nbformat": 4,
 "nbformat_minor": 2
}
